{
 "cells": [
  {
   "cell_type": "markdown",
   "metadata": {},
   "source": [
    "# ML Pipeline Preparation\n",
    "Follow the instructions below to help you create your ML pipeline.\n",
    "### 1. Import libraries and load data from database.\n",
    "- Import Python libraries\n",
    "- Load dataset from database with [`read_sql_table`](https://pandas.pydata.org/pandas-docs/stable/generated/pandas.read_sql_table.html)\n",
    "- Define feature and target variables X and Y"
   ]
  },
  {
   "cell_type": "code",
   "execution_count": 135,
   "metadata": {},
   "outputs": [],
   "source": [
    "# import libraries\n",
    "import pandas as pd\n",
    "from sqlalchemy import create_engine\n",
    "from sklearn.model_selection import train_test_split, GridSearchCV\n",
    "from sklearn.multioutput import MultiOutputClassifier\n",
    "from sklearn.ensemble import RandomForestClassifier\n",
    "from sklearn.pipeline import Pipeline, FeatureUnion\n",
    "from sklearn.metrics import classification_report\n",
    "from sklearn.feature_extraction.text import CountVectorizer, TfidfTransformer\n",
    "from nltk.tokenize import word_tokenize\n",
    "from nltk.stem import WordNetLemmatizer\n",
    "import pickle\n",
    "\n",
    "import nltk"
   ]
  },
  {
   "cell_type": "code",
   "execution_count": 34,
   "metadata": {},
   "outputs": [
    {
     "name": "stdout",
     "output_type": "stream",
     "text": [
      "[nltk_data] Downloading package punkt to /root/nltk_data...\n",
      "[nltk_data]   Unzipping tokenizers/punkt.zip.\n",
      "[nltk_data] Downloading package wordnet to /root/nltk_data...\n",
      "[nltk_data]   Unzipping corpora/wordnet.zip.\n",
      "[nltk_data] Downloading package averaged_perceptron_tagger to\n",
      "[nltk_data]     /root/nltk_data...\n",
      "[nltk_data]   Unzipping taggers/averaged_perceptron_tagger.zip.\n"
     ]
    },
    {
     "data": {
      "text/plain": [
       "True"
      ]
     },
     "execution_count": 34,
     "metadata": {},
     "output_type": "execute_result"
    }
   ],
   "source": [
    "nltk.download(['punkt', 'wordnet', 'averaged_perceptron_tagger'])"
   ]
  },
  {
   "cell_type": "code",
   "execution_count": 21,
   "metadata": {},
   "outputs": [
    {
     "data": {
      "text/plain": [
       "0    Weather update - a cold front from Cuba that c...\n",
       "1              Is the Hurricane over or is it not over\n",
       "2                      Looking for someone but no name\n",
       "3    UN reports Leogane 80-90 destroyed. Only Hospi...\n",
       "4    says: west side of Haiti, rest of the country ...\n",
       "Name: message, dtype: object"
      ]
     },
     "execution_count": 21,
     "metadata": {},
     "output_type": "execute_result"
    }
   ],
   "source": [
    "# load data from database\n",
    "engine = create_engine('sqlite:///DISASTER.db')\n",
    "df = pd.read_sql_table(\"CLEAN_MESSAGES\", engine)\n",
    "X = df['message']\n",
    "Y = df.iloc[:,4:]\n",
    "X.head()"
   ]
  },
  {
   "cell_type": "markdown",
   "metadata": {},
   "source": [
    "### 2. Write a tokenization function to process your text data"
   ]
  },
  {
   "cell_type": "code",
   "execution_count": 22,
   "metadata": {},
   "outputs": [],
   "source": [
    "def tokenize(text):\n",
    "    tokens = word_tokenize(text)\n",
    "    lemmatizer = WordNetLemmatizer()\n",
    "\n",
    "    clean_tokens = []\n",
    "    for tok in tokens:\n",
    "        clean_tok = lemmatizer.lemmatize(tok).lower().strip()\n",
    "        clean_tokens.append(clean_tok)\n",
    "\n",
    "    return clean_tokens\n"
   ]
  },
  {
   "cell_type": "markdown",
   "metadata": {},
   "source": [
    "### 3. Build a machine learning pipeline\n",
    "This machine pipeline should take in the `message` column as input and output classification results on the other 36 categories in the dataset. You may find the [MultiOutputClassifier](http://scikit-learn.org/stable/modules/generated/sklearn.multioutput.MultiOutputClassifier.html) helpful for predicting multiple target variables."
   ]
  },
  {
   "cell_type": "code",
   "execution_count": 123,
   "metadata": {},
   "outputs": [],
   "source": [
    "pipeline = Pipeline([\n",
    "            ('vect', CountVectorizer(tokenizer=tokenize)),\n",
    "            ('tfidf', TfidfTransformer()),\n",
    "            ('clf',  MultiOutputClassifier(RandomForestClassifier()))\n",
    "])\n"
   ]
  },
  {
   "cell_type": "markdown",
   "metadata": {},
   "source": [
    "### 4. Train pipeline\n",
    "- Split data into train and test sets\n",
    "- Train pipeline"
   ]
  },
  {
   "cell_type": "code",
   "execution_count": 124,
   "metadata": {},
   "outputs": [
    {
     "data": {
      "text/plain": [
       "Pipeline(memory=None,\n",
       "     steps=[('vect', CountVectorizer(analyzer='word', binary=False, decode_error='strict',\n",
       "        dtype=<class 'numpy.int64'>, encoding='utf-8', input='content',\n",
       "        lowercase=True, max_df=1.0, max_features=None, min_df=1,\n",
       "        ngram_range=(1, 1), preprocessor=None, stop_words=None,\n",
       "        strip...oob_score=False, random_state=None, verbose=0,\n",
       "            warm_start=False),\n",
       "           n_jobs=1))])"
      ]
     },
     "execution_count": 124,
     "metadata": {},
     "output_type": "execute_result"
    }
   ],
   "source": [
    "X_train, X_test, Y_train, Y_test = train_test_split(X, Y)\n",
    "pipeline.fit(X_train, Y_train)"
   ]
  },
  {
   "cell_type": "code",
   "execution_count": 118,
   "metadata": {},
   "outputs": [
    {
     "data": {
      "text/plain": [
       "related                   0\n",
       "request                   0\n",
       "offer                     0\n",
       "aid_related               0\n",
       "medical_help              0\n",
       "medical_products          0\n",
       "search_and_rescue         0\n",
       "security                  0\n",
       "military                  0\n",
       "child_alone               0\n",
       "water                     0\n",
       "food                      0\n",
       "shelter                   0\n",
       "clothing                  0\n",
       "money                     0\n",
       "missing_people            0\n",
       "refugees                  0\n",
       "death                     0\n",
       "other_aid                 0\n",
       "infrastructure_related    0\n",
       "transport                 0\n",
       "buildings                 0\n",
       "electricity               0\n",
       "tools                     0\n",
       "hospitals                 0\n",
       "shops                     0\n",
       "aid_centers               0\n",
       "other_infrastructure      0\n",
       "weather_related           0\n",
       "floods                    0\n",
       "storm                     0\n",
       "fire                      0\n",
       "earthquake                0\n",
       "cold                      0\n",
       "other_weather             0\n",
       "direct_report             0\n",
       "dtype: int64"
      ]
     },
     "execution_count": 118,
     "metadata": {},
     "output_type": "execute_result"
    }
   ],
   "source": [
    "(Y.head()>1).sum()"
   ]
  },
  {
   "cell_type": "markdown",
   "metadata": {},
   "source": [
    "### 5. Test your model\n",
    "Report the f1 score, precision and recall for each output category of the dataset. You can do this by iterating through the columns and calling sklearn's `classification_report` on each."
   ]
  },
  {
   "cell_type": "code",
   "execution_count": 125,
   "metadata": {},
   "outputs": [],
   "source": [
    "Y_pred = pipeline.predict(X_train)"
   ]
  },
  {
   "cell_type": "code",
   "execution_count": 126,
   "metadata": {},
   "outputs": [
    {
     "data": {
      "text/plain": [
       "array([[1, 0, 0, ..., 0, 0, 0],\n",
       "       [1, 0, 0, ..., 0, 0, 0],\n",
       "       [1, 0, 0, ..., 0, 0, 0],\n",
       "       ..., \n",
       "       [0, 0, 0, ..., 0, 0, 0],\n",
       "       [1, 1, 0, ..., 0, 0, 0],\n",
       "       [1, 0, 0, ..., 0, 0, 0]])"
      ]
     },
     "execution_count": 126,
     "metadata": {},
     "output_type": "execute_result"
    }
   ],
   "source": [
    "Y_pred"
   ]
  },
  {
   "cell_type": "code",
   "execution_count": 127,
   "metadata": {},
   "outputs": [
    {
     "name": "stdout",
     "output_type": "stream",
     "text": [
      "Columns:  related\n",
      "             precision    recall  f1-score   support\n",
      "\n",
      "          0       0.99      0.97      0.98      4611\n",
      "          1       0.99      1.00      0.99     14907\n",
      "          2       1.00      0.89      0.94       144\n",
      "\n",
      "avg / total       0.99      0.99      0.99     19662\n",
      "\n",
      "\n",
      "Columns:  request\n",
      "             precision    recall  f1-score   support\n",
      "\n",
      "          0       0.98      1.00      0.99     16318\n",
      "          1       1.00      0.92      0.96      3344\n",
      "\n",
      "avg / total       0.99      0.99      0.99     19662\n",
      "\n",
      "\n",
      "Columns:  offer\n",
      "             precision    recall  f1-score   support\n",
      "\n",
      "          0       1.00      1.00      1.00     19569\n",
      "          1       1.00      0.72      0.84        93\n",
      "\n",
      "avg / total       1.00      1.00      1.00     19662\n",
      "\n",
      "\n",
      "Columns:  aid_related\n",
      "             precision    recall  f1-score   support\n",
      "\n",
      "          0       0.98      1.00      0.99     11551\n",
      "          1       1.00      0.96      0.98      8111\n",
      "\n",
      "avg / total       0.98      0.98      0.98     19662\n",
      "\n",
      "\n",
      "Columns:  medical_help\n",
      "             precision    recall  f1-score   support\n",
      "\n",
      "          0       0.99      1.00      0.99     18104\n",
      "          1       1.00      0.87      0.93      1558\n",
      "\n",
      "avg / total       0.99      0.99      0.99     19662\n",
      "\n",
      "\n",
      "Columns:  medical_products\n",
      "             precision    recall  f1-score   support\n",
      "\n",
      "          0       0.99      1.00      1.00     18702\n",
      "          1       1.00      0.84      0.91       960\n",
      "\n",
      "avg / total       0.99      0.99      0.99     19662\n",
      "\n",
      "\n",
      "Columns:  search_and_rescue\n",
      "             precision    recall  f1-score   support\n",
      "\n",
      "          0       0.99      1.00      1.00     19127\n",
      "          1       1.00      0.80      0.89       535\n",
      "\n",
      "avg / total       0.99      0.99      0.99     19662\n",
      "\n",
      "\n",
      "Columns:  security\n",
      "             precision    recall  f1-score   support\n",
      "\n",
      "          0       0.99      1.00      1.00     19310\n",
      "          1       1.00      0.72      0.84       352\n",
      "\n",
      "avg / total       1.00      1.00      0.99     19662\n",
      "\n",
      "\n",
      "Columns:  military\n",
      "             precision    recall  f1-score   support\n",
      "\n",
      "          0       1.00      1.00      1.00     19020\n",
      "          1       1.00      0.86      0.93       642\n",
      "\n",
      "avg / total       1.00      1.00      1.00     19662\n",
      "\n",
      "\n",
      "Columns:  child_alone\n",
      "             precision    recall  f1-score   support\n",
      "\n",
      "          0       1.00      1.00      1.00     19662\n",
      "\n",
      "avg / total       1.00      1.00      1.00     19662\n",
      "\n",
      "\n",
      "Columns:  water\n",
      "             precision    recall  f1-score   support\n",
      "\n",
      "          0       0.99      1.00      1.00     18402\n",
      "          1       1.00      0.92      0.96      1260\n",
      "\n",
      "avg / total       0.99      0.99      0.99     19662\n",
      "\n",
      "\n",
      "Columns:  food\n",
      "             precision    recall  f1-score   support\n",
      "\n",
      "          0       0.99      1.00      1.00     17500\n",
      "          1       1.00      0.95      0.97      2162\n",
      "\n",
      "avg / total       0.99      0.99      0.99     19662\n",
      "\n",
      "\n",
      "Columns:  shelter\n",
      "             precision    recall  f1-score   support\n",
      "\n",
      "          0       0.99      1.00      1.00     17942\n",
      "          1       1.00      0.90      0.95      1720\n",
      "\n",
      "avg / total       0.99      0.99      0.99     19662\n",
      "\n",
      "\n",
      "Columns:  clothing\n",
      "             precision    recall  f1-score   support\n",
      "\n",
      "          0       1.00      1.00      1.00     19365\n",
      "          1       1.00      0.82      0.90       297\n",
      "\n",
      "avg / total       1.00      1.00      1.00     19662\n",
      "\n",
      "\n",
      "Columns:  money\n",
      "             precision    recall  f1-score   support\n",
      "\n",
      "          0       1.00      1.00      1.00     19224\n",
      "          1       1.00      0.82      0.90       438\n",
      "\n",
      "avg / total       1.00      1.00      1.00     19662\n",
      "\n",
      "\n",
      "Columns:  missing_people\n",
      "             precision    recall  f1-score   support\n",
      "\n",
      "          0       1.00      1.00      1.00     19448\n",
      "          1       1.00      0.77      0.87       214\n",
      "\n",
      "avg / total       1.00      1.00      1.00     19662\n",
      "\n",
      "\n",
      "Columns:  refugees\n",
      "             precision    recall  f1-score   support\n",
      "\n",
      "          0       0.99      1.00      1.00     19035\n",
      "          1       1.00      0.81      0.90       627\n",
      "\n",
      "avg / total       0.99      0.99      0.99     19662\n",
      "\n",
      "\n",
      "Columns:  death\n",
      "             precision    recall  f1-score   support\n",
      "\n",
      "          0       0.99      1.00      1.00     18755\n",
      "          1       1.00      0.86      0.93       907\n",
      "\n",
      "avg / total       0.99      0.99      0.99     19662\n",
      "\n",
      "\n",
      "Columns:  other_aid\n",
      "             precision    recall  f1-score   support\n",
      "\n",
      "          0       0.98      1.00      0.99     17122\n",
      "          1       1.00      0.84      0.91      2540\n",
      "\n",
      "avg / total       0.98      0.98      0.98     19662\n",
      "\n",
      "\n",
      "Columns:  infrastructure_related\n",
      "             precision    recall  f1-score   support\n",
      "\n",
      "          0       0.99      1.00      0.99     18400\n",
      "          1       1.00      0.78      0.88      1262\n",
      "\n",
      "avg / total       0.99      0.99      0.99     19662\n",
      "\n",
      "\n",
      "Columns:  transport\n",
      "             precision    recall  f1-score   support\n",
      "\n",
      "          0       0.99      1.00      1.00     18790\n",
      "          1       1.00      0.81      0.89       872\n",
      "\n",
      "avg / total       0.99      0.99      0.99     19662\n",
      "\n",
      "\n",
      "Columns:  buildings\n",
      "             precision    recall  f1-score   support\n",
      "\n",
      "          0       0.99      1.00      1.00     18669\n",
      "          1       1.00      0.87      0.93       993\n",
      "\n",
      "avg / total       0.99      0.99      0.99     19662\n",
      "\n",
      "\n",
      "Columns:  electricity\n",
      "             precision    recall  f1-score   support\n",
      "\n",
      "          0       1.00      1.00      1.00     19264\n",
      "          1       1.00      0.82      0.90       398\n",
      "\n",
      "avg / total       1.00      1.00      1.00     19662\n",
      "\n",
      "\n",
      "Columns:  tools\n",
      "             precision    recall  f1-score   support\n",
      "\n",
      "          0       1.00      1.00      1.00     19550\n",
      "          1       1.00      0.78      0.87       112\n",
      "\n",
      "avg / total       1.00      1.00      1.00     19662\n",
      "\n",
      "\n",
      "Columns:  hospitals\n",
      "             precision    recall  f1-score   support\n",
      "\n",
      "          0       1.00      1.00      1.00     19459\n",
      "          1       1.00      0.74      0.85       203\n",
      "\n",
      "avg / total       1.00      1.00      1.00     19662\n",
      "\n",
      "\n",
      "Columns:  shops\n",
      "             precision    recall  f1-score   support\n",
      "\n",
      "          0       1.00      1.00      1.00     19574\n",
      "          1       1.00      0.67      0.80        88\n",
      "\n",
      "avg / total       1.00      1.00      1.00     19662\n",
      "\n",
      "\n",
      "Columns:  aid_centers\n",
      "             precision    recall  f1-score   support\n",
      "\n",
      "          0       1.00      1.00      1.00     19438\n",
      "          1       1.00      0.74      0.85       224\n",
      "\n",
      "avg / total       1.00      1.00      1.00     19662\n",
      "\n",
      "\n",
      "Columns:  other_infrastructure\n",
      "             precision    recall  f1-score   support\n",
      "\n",
      "          0       0.99      1.00      0.99     18800\n",
      "          1       1.00      0.76      0.86       862\n",
      "\n",
      "avg / total       0.99      0.99      0.99     19662\n",
      "\n",
      "\n",
      "Columns:  weather_related\n",
      "             precision    recall  f1-score   support\n",
      "\n",
      "          0       0.98      1.00      0.99     14211\n",
      "          1       1.00      0.95      0.98      5451\n",
      "\n",
      "avg / total       0.99      0.99      0.99     19662\n",
      "\n",
      "\n",
      "Columns:  floods\n",
      "             precision    recall  f1-score   support\n",
      "\n",
      "          0       0.99      1.00      1.00     18075\n",
      "          1       1.00      0.89      0.94      1587\n",
      "\n",
      "avg / total       0.99      0.99      0.99     19662\n",
      "\n",
      "\n",
      "Columns:  storm\n",
      "             precision    recall  f1-score   support\n",
      "\n",
      "          0       0.99      1.00      1.00     17826\n",
      "          1       1.00      0.93      0.96      1836\n",
      "\n",
      "avg / total       0.99      0.99      0.99     19662\n",
      "\n",
      "\n",
      "Columns:  fire\n",
      "             precision    recall  f1-score   support\n",
      "\n",
      "          0       1.00      1.00      1.00     19444\n",
      "          1       1.00      0.78      0.88       218\n",
      "\n",
      "avg / total       1.00      1.00      1.00     19662\n",
      "\n",
      "\n",
      "Columns:  earthquake\n",
      "             precision    recall  f1-score   support\n",
      "\n",
      "          0       1.00      1.00      1.00     17810\n",
      "          1       1.00      0.96      0.98      1852\n",
      "\n",
      "avg / total       1.00      1.00      1.00     19662\n",
      "\n",
      "\n",
      "Columns:  cold\n",
      "             precision    recall  f1-score   support\n",
      "\n",
      "          0       1.00      1.00      1.00     19276\n",
      "          1       1.00      0.84      0.91       386\n",
      "\n",
      "avg / total       1.00      1.00      1.00     19662\n",
      "\n",
      "\n",
      "Columns:  other_weather\n",
      "             precision    recall  f1-score   support\n",
      "\n",
      "          0       0.99      1.00      1.00     18655\n",
      "          1       1.00      0.82      0.90      1007\n",
      "\n",
      "avg / total       0.99      0.99      0.99     19662\n",
      "\n",
      "\n",
      "Columns:  direct_report\n",
      "             precision    recall  f1-score   support\n",
      "\n",
      "          0       0.98      1.00      0.99     15886\n",
      "          1       1.00      0.90      0.95      3776\n",
      "\n",
      "avg / total       0.98      0.98      0.98     19662\n",
      "\n",
      "\n"
     ]
    }
   ],
   "source": [
    "for i, column in enumerate(Y_train.columns):\n",
    "    print(\"Columns: \", column)\n",
    "    print(classification_report(Y_train.values[:,i], Y_pred[:,i]))\n",
    "    print()\n",
    "    "
   ]
  },
  {
   "cell_type": "markdown",
   "metadata": {},
   "source": [
    "### 6. Improve your model\n",
    "Use grid search to find better parameters. "
   ]
  },
  {
   "cell_type": "code",
   "execution_count": 133,
   "metadata": {},
   "outputs": [],
   "source": [
    "parameters = {'clf__estimator__n_estimators': range(100,200,100),\n",
    "              'clf__estimator__min_samples_split': range(2,3)}\n",
    "\n",
    "cv = GridSearchCV(pipeline, param_grid=parameters, n_jobs=4)"
   ]
  },
  {
   "cell_type": "markdown",
   "metadata": {},
   "source": [
    "### 7. Test your model\n",
    "Show the accuracy, precision, and recall of the tuned model.  \n",
    "\n",
    "Since this project focuses on code quality, process, and  pipelines, there is no minimum performance metric needed to pass. However, make sure to fine tune your models for accuracy, precision and recall to make your project stand out - especially for your portfolio!"
   ]
  },
  {
   "cell_type": "code",
   "execution_count": 134,
   "metadata": {},
   "outputs": [
    {
     "data": {
      "text/plain": [
       "GridSearchCV(cv=None, error_score='raise',\n",
       "       estimator=Pipeline(memory=None,\n",
       "     steps=[('vect', CountVectorizer(analyzer='word', binary=False, decode_error='strict',\n",
       "        dtype=<class 'numpy.int64'>, encoding='utf-8', input='content',\n",
       "        lowercase=True, max_df=1.0, max_features=None, min_df=1,\n",
       "        ngram_range=(1, 1), preprocessor=None, stop_words=None,\n",
       "        strip...oob_score=False, random_state=None, verbose=0,\n",
       "            warm_start=False),\n",
       "           n_jobs=1))]),\n",
       "       fit_params=None, iid=True, n_jobs=4,\n",
       "       param_grid={'clf__estimator__n_estimators': range(100, 200, 100), 'clf__estimator__min_samples_split': range(2, 3)},\n",
       "       pre_dispatch='2*n_jobs', refit=True, return_train_score='warn',\n",
       "       scoring=None, verbose=0)"
      ]
     },
     "execution_count": 134,
     "metadata": {},
     "output_type": "execute_result"
    }
   ],
   "source": [
    "cv.fit(X_train, Y_train)"
   ]
  },
  {
   "cell_type": "code",
   "execution_count": null,
   "metadata": {},
   "outputs": [],
   "source": []
  },
  {
   "cell_type": "code",
   "execution_count": null,
   "metadata": {},
   "outputs": [],
   "source": []
  },
  {
   "cell_type": "code",
   "execution_count": 132,
   "metadata": {},
   "outputs": [],
   "source": [
    "Y_pred = cv.predict(X_test)"
   ]
  },
  {
   "cell_type": "markdown",
   "metadata": {},
   "source": [
    "### 8. Try improving your model further. Here are a few ideas:\n",
    "* try other machine learning algorithms\n",
    "* add other features besides the TF-IDF"
   ]
  },
  {
   "cell_type": "code",
   "execution_count": null,
   "metadata": {},
   "outputs": [],
   "source": []
  },
  {
   "cell_type": "markdown",
   "metadata": {},
   "source": [
    "### 9. Export your model as a pickle file"
   ]
  },
  {
   "cell_type": "code",
   "execution_count": 138,
   "metadata": {},
   "outputs": [],
   "source": [
    "with open(\"MODEL.pkl\", 'wb') as file:\n",
    "    file.write(pickle.dumps(cv))"
   ]
  },
  {
   "cell_type": "markdown",
   "metadata": {},
   "source": [
    "### 10. Use this notebook to complete `train.py`\n",
    "Use the template file attached in the Resources folder to write a script that runs the steps above to create a database and export a model based on a new dataset specified by the user."
   ]
  },
  {
   "cell_type": "code",
   "execution_count": null,
   "metadata": {},
   "outputs": [],
   "source": []
  }
 ],
 "metadata": {
  "kernelspec": {
   "display_name": "Python 3",
   "language": "python",
   "name": "python3"
  },
  "language_info": {
   "codemirror_mode": {
    "name": "ipython",
    "version": 3
   },
   "file_extension": ".py",
   "mimetype": "text/x-python",
   "name": "python",
   "nbconvert_exporter": "python",
   "pygments_lexer": "ipython3",
   "version": "3.6.3"
  }
 },
 "nbformat": 4,
 "nbformat_minor": 2
}
