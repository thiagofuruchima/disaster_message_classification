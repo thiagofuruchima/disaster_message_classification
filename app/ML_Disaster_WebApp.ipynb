{
  "nbformat": 4,
  "nbformat_minor": 0,
  "metadata": {
    "colab": {
      "name": "ML Disaster WebApp.ipynb",
      "provenance": [],
      "collapsed_sections": [],
      "authorship_tag": "ABX9TyPTBMxt4Lq0fM+WoYa4UcmD",
      "include_colab_link": true
    },
    "kernelspec": {
      "name": "python3",
      "display_name": "Python 3"
    }
  },
  "cells": [
    {
      "cell_type": "markdown",
      "metadata": {
        "id": "view-in-github",
        "colab_type": "text"
      },
      "source": [
        "<a href=\"https://colab.research.google.com/github/thiagofuruchima/disaster_message_classification/blob/main/app%5CML_Disaster_WebApp.ipynb\" target=\"_parent\"><img src=\"https://colab.research.google.com/assets/colab-badge.svg\" alt=\"Open In Colab\"/></a>"
      ]
    },
    {
      "cell_type": "code",
      "metadata": {
        "colab": {
          "base_uri": "https://localhost:8080/"
        },
        "id": "vhK9INXfvSss",
        "outputId": "302c03d9-46d4-4a15-935b-49f568f921b7"
      },
      "source": [
        "!pip install flask-ngrok"
      ],
      "execution_count": 1,
      "outputs": [
        {
          "output_type": "stream",
          "text": [
            "Requirement already satisfied: flask-ngrok in /usr/local/lib/python3.6/dist-packages (0.0.25)\n",
            "Requirement already satisfied: Flask>=0.8 in /usr/local/lib/python3.6/dist-packages (from flask-ngrok) (1.1.2)\n",
            "Requirement already satisfied: requests in /usr/local/lib/python3.6/dist-packages (from flask-ngrok) (2.23.0)\n",
            "Requirement already satisfied: click>=5.1 in /usr/local/lib/python3.6/dist-packages (from Flask>=0.8->flask-ngrok) (7.1.2)\n",
            "Requirement already satisfied: Jinja2>=2.10.1 in /usr/local/lib/python3.6/dist-packages (from Flask>=0.8->flask-ngrok) (2.11.2)\n",
            "Requirement already satisfied: Werkzeug>=0.15 in /usr/local/lib/python3.6/dist-packages (from Flask>=0.8->flask-ngrok) (1.0.1)\n",
            "Requirement already satisfied: itsdangerous>=0.24 in /usr/local/lib/python3.6/dist-packages (from Flask>=0.8->flask-ngrok) (1.1.0)\n",
            "Requirement already satisfied: urllib3!=1.25.0,!=1.25.1,<1.26,>=1.21.1 in /usr/local/lib/python3.6/dist-packages (from requests->flask-ngrok) (1.24.3)\n",
            "Requirement already satisfied: chardet<4,>=3.0.2 in /usr/local/lib/python3.6/dist-packages (from requests->flask-ngrok) (3.0.4)\n",
            "Requirement already satisfied: certifi>=2017.4.17 in /usr/local/lib/python3.6/dist-packages (from requests->flask-ngrok) (2020.12.5)\n",
            "Requirement already satisfied: idna<3,>=2.5 in /usr/local/lib/python3.6/dist-packages (from requests->flask-ngrok) (2.10)\n",
            "Requirement already satisfied: MarkupSafe>=0.23 in /usr/local/lib/python3.6/dist-packages (from Jinja2>=2.10.1->Flask>=0.8->flask-ngrok) (1.1.1)\n"
          ],
          "name": "stdout"
        }
      ]
    },
    {
      "cell_type": "code",
      "metadata": {
        "id": "aW564M6nvY7P"
      },
      "source": [
        "from flask_ngrok import run_with_ngrok"
      ],
      "execution_count": 2,
      "outputs": []
    },
    {
      "cell_type": "code",
      "metadata": {
        "id": "rvFrfmPGvjZ2"
      },
      "source": [
        "import json\r\n",
        "import plotly\r\n",
        "import pandas as pd\r\n",
        "\r\n",
        "from nltk.stem import WordNetLemmatizer\r\n",
        "from nltk.tokenize import word_tokenize\r\n",
        "\r\n",
        "from flask import Flask\r\n",
        "from flask import render_template, request, jsonify\r\n",
        "from plotly.graph_objs import Bar\r\n",
        "import joblib\r\n",
        "from sqlalchemy import create_engine"
      ],
      "execution_count": 3,
      "outputs": []
    },
    {
      "cell_type": "code",
      "metadata": {
        "colab": {
          "base_uri": "https://localhost:8080/"
        },
        "id": "5RemEWgtpllR",
        "outputId": "1a143546-df18-46c3-c383-0244cbe122de"
      },
      "source": [
        "import nltk\r\n",
        "nltk.download(['punkt', 'wordnet', 'averaged_perceptron_tagger'])"
      ],
      "execution_count": 4,
      "outputs": [
        {
          "output_type": "stream",
          "text": [
            "[nltk_data] Downloading package punkt to /root/nltk_data...\n",
            "[nltk_data]   Package punkt is already up-to-date!\n",
            "[nltk_data] Downloading package wordnet to /root/nltk_data...\n",
            "[nltk_data]   Package wordnet is already up-to-date!\n",
            "[nltk_data] Downloading package averaged_perceptron_tagger to\n",
            "[nltk_data]     /root/nltk_data...\n",
            "[nltk_data]   Package averaged_perceptron_tagger is already up-to-\n",
            "[nltk_data]       date!\n"
          ],
          "name": "stdout"
        },
        {
          "output_type": "execute_result",
          "data": {
            "text/plain": [
              "True"
            ]
          },
          "metadata": {
            "tags": []
          },
          "execution_count": 4
        }
      ]
    },
    {
      "cell_type": "code",
      "metadata": {
        "id": "qY0GkaOAV1KK"
      },
      "source": [
        "app = Flask(__name__)\r\n",
        "run_with_ngrok(app)   #starts ngrok when the app is run"
      ],
      "execution_count": 5,
      "outputs": []
    },
    {
      "cell_type": "code",
      "metadata": {
        "id": "6mt-i9hUYrb8"
      },
      "source": [
        "# load data\r\n",
        "engine = create_engine('sqlite:////content/DisasterResponse.db')\r\n",
        "df = pd.read_sql_table('CLEAN_MESSAGES', engine)"
      ],
      "execution_count": 6,
      "outputs": []
    },
    {
      "cell_type": "code",
      "metadata": {
        "id": "cq31u321voIM"
      },
      "source": [
        "def tokenize(text):\r\n",
        "    tokens = word_tokenize(text)\r\n",
        "    lemmatizer = WordNetLemmatizer()\r\n",
        "\r\n",
        "    clean_tokens = []\r\n",
        "    for tok in tokens:\r\n",
        "        clean_tok = lemmatizer.lemmatize(tok).lower().strip()\r\n",
        "        clean_tokens.append(clean_tok)\r\n",
        "\r\n",
        "    return clean_tokens\r\n",
        "\r\n",
        "# index webpage displays cool visuals and receives user input text for model\r\n",
        "@app.route('/')\r\n",
        "@app.route('/index')\r\n",
        "def index():\r\n",
        "    \r\n",
        " \r\n",
        "    categories = df.iloc[:,4:].sum().sort_values(ascending=False)\r\n",
        "    category_names = list(categories.index.str.title().str.replace('_', ' '))\r\n",
        "    category_counts = list(categories)\r\n",
        "\r\n",
        "    genre_counts = df.groupby('genre').count()['message']\r\n",
        "    genre_names = list(genre_counts.index.str.title())\r\n",
        "\r\n",
        "    related_percentage = (df['related']>0).mean().round(2)*100\r\n",
        "    related_counts = [related_percentage, 100-related_percentage]\r\n",
        "    related_names = ['Related', 'Non Related']\r\n",
        "    \r\n",
        "    # create visuals\r\n",
        "    graphs = [\r\n",
        "        {\r\n",
        "            'data': [\r\n",
        "                Bar(\r\n",
        "                    x=category_names,\r\n",
        "                    y=category_counts\r\n",
        "                )\r\n",
        "            ],\r\n",
        "\r\n",
        "            'layout': {\r\n",
        "                'title': 'Top Categories',\r\n",
        "                'yaxis': {\r\n",
        "                    'title': \"Count\"\r\n",
        "                },\r\n",
        "                'xaxis': {\r\n",
        "                    'title': \"Category\"\r\n",
        "                }\r\n",
        "            }\r\n",
        "        },\r\n",
        "\r\n",
        "        {\r\n",
        "            'data': [\r\n",
        "                Bar(\r\n",
        "                    x=related_names,\r\n",
        "                    y=related_counts\r\n",
        "                )\r\n",
        "            ],\r\n",
        "\r\n",
        "            'layout': {\r\n",
        "                'title': 'Percentage of Messages Disaster Related',\r\n",
        "                'yaxis': {\r\n",
        "                    'title': \"Percentage\"\r\n",
        "                },\r\n",
        "                'xaxis': {\r\n",
        "                    'title': \"Related x Non Related\"\r\n",
        "                },\r\n",
        "                'color': '[Red, Blue]'\r\n",
        "            }\r\n",
        "        },\r\n",
        "    ]\r\n",
        "\r\n",
        "    # encode plotly graphs in JSON\r\n",
        "    ids = [\"graph-{}\".format(i) for i, _ in enumerate(graphs)]\r\n",
        "    graphJSON = json.dumps(graphs, cls=plotly.utils.PlotlyJSONEncoder)\r\n",
        "\r\n",
        "    # render web page with plotly graphs\r\n",
        "    return render_template('master.html', ids=ids, graphJSON=graphJSON)\r\n",
        "\r\n",
        "\r\n",
        "# web page that handles user query and displays model results\r\n",
        "@app.route('/go')\r\n",
        "def go():\r\n",
        "    # save user input in query\r\n",
        "    query = request.args.get('query', '') \r\n",
        "\r\n",
        "    # use model to predict classification for query\r\n",
        "    classification_labels = model.predict([query])[0]\r\n",
        "    classification_results = dict(zip(df.columns[4:], classification_labels))\r\n",
        "\r\n",
        "    # This will render the go.html Please see that file. \r\n",
        "    return render_template(\r\n",
        "        'go.html',\r\n",
        "        query=query,\r\n",
        "        classification_result=classification_results\r\n",
        "    )\r\n",
        "\r\n",
        "\r\n",
        "def main():\r\n",
        "    app.run(host='0.0.0.0', port=3001, debug=True)"
      ],
      "execution_count": 7,
      "outputs": []
    },
    {
      "cell_type": "code",
      "metadata": {
        "colab": {
          "base_uri": "https://localhost:8080/"
        },
        "id": "tQWDxXenVt9r",
        "outputId": "51cb649c-c313-46dd-a30c-d5f2f2dadfe7"
      },
      "source": [
        "# load model\r\n",
        "model = joblib.load(\"/content/classifier.pkl\")"
      ],
      "execution_count": 8,
      "outputs": [
        {
          "output_type": "stream",
          "text": [
            "/usr/local/lib/python3.6/dist-packages/sklearn/base.py:318: UserWarning:\n",
            "\n",
            "Trying to unpickle estimator CountVectorizer from version 0.24.0 when using version 0.22.2.post1. This might lead to breaking code or invalid results. Use at your own risk.\n",
            "\n",
            "/usr/local/lib/python3.6/dist-packages/sklearn/base.py:318: UserWarning:\n",
            "\n",
            "Trying to unpickle estimator TfidfTransformer from version 0.24.0 when using version 0.22.2.post1. This might lead to breaking code or invalid results. Use at your own risk.\n",
            "\n",
            "/usr/local/lib/python3.6/dist-packages/sklearn/base.py:318: UserWarning:\n",
            "\n",
            "Trying to unpickle estimator DecisionTreeClassifier from version 0.24.0 when using version 0.22.2.post1. This might lead to breaking code or invalid results. Use at your own risk.\n",
            "\n",
            "/usr/local/lib/python3.6/dist-packages/sklearn/base.py:318: UserWarning:\n",
            "\n",
            "Trying to unpickle estimator RandomForestClassifier from version 0.24.0 when using version 0.22.2.post1. This might lead to breaking code or invalid results. Use at your own risk.\n",
            "\n",
            "/usr/local/lib/python3.6/dist-packages/sklearn/base.py:318: UserWarning:\n",
            "\n",
            "Trying to unpickle estimator MultiOutputClassifier from version 0.24.0 when using version 0.22.2.post1. This might lead to breaking code or invalid results. Use at your own risk.\n",
            "\n",
            "/usr/local/lib/python3.6/dist-packages/sklearn/base.py:318: UserWarning:\n",
            "\n",
            "Trying to unpickle estimator Pipeline from version 0.24.0 when using version 0.22.2.post1. This might lead to breaking code or invalid results. Use at your own risk.\n",
            "\n",
            "/usr/local/lib/python3.6/dist-packages/sklearn/base.py:318: UserWarning:\n",
            "\n",
            "Trying to unpickle estimator CountVectorizer from version 0.24.0 when using version 0.22.2.post1. This might lead to breaking code or invalid results. Use at your own risk.\n",
            "\n",
            "/usr/local/lib/python3.6/dist-packages/sklearn/base.py:318: UserWarning:\n",
            "\n",
            "Trying to unpickle estimator TfidfTransformer from version 0.24.0 when using version 0.22.2.post1. This might lead to breaking code or invalid results. Use at your own risk.\n",
            "\n",
            "/usr/local/lib/python3.6/dist-packages/sklearn/base.py:318: UserWarning:\n",
            "\n",
            "Trying to unpickle estimator GridSearchCV from version 0.24.0 when using version 0.22.2.post1. This might lead to breaking code or invalid results. Use at your own risk.\n",
            "\n"
          ],
          "name": "stderr"
        }
      ]
    },
    {
      "cell_type": "code",
      "metadata": {
        "id": "ttNhMbD1qHkH"
      },
      "source": [
        "genre_counts = df.groupby('genre').count()['message']\r\n",
        "genre_names = list(genre_counts.index)"
      ],
      "execution_count": 9,
      "outputs": []
    },
    {
      "cell_type": "code",
      "metadata": {
        "id": "_KInc60fyx8k"
      },
      "source": [
        ""
      ],
      "execution_count": 9,
      "outputs": []
    },
    {
      "cell_type": "code",
      "metadata": {
        "colab": {
          "base_uri": "https://localhost:8080/",
          "height": 626
        },
        "id": "lWzBxvlDwaWx",
        "outputId": "fa84ec11-660c-4f25-a63c-efc0167a9544"
      },
      "source": [
        "df.head()"
      ],
      "execution_count": 10,
      "outputs": [
        {
          "output_type": "execute_result",
          "data": {
            "text/html": [
              "<div>\n",
              "<style scoped>\n",
              "    .dataframe tbody tr th:only-of-type {\n",
              "        vertical-align: middle;\n",
              "    }\n",
              "\n",
              "    .dataframe tbody tr th {\n",
              "        vertical-align: top;\n",
              "    }\n",
              "\n",
              "    .dataframe thead th {\n",
              "        text-align: right;\n",
              "    }\n",
              "</style>\n",
              "<table border=\"1\" class=\"dataframe\">\n",
              "  <thead>\n",
              "    <tr style=\"text-align: right;\">\n",
              "      <th></th>\n",
              "      <th>id</th>\n",
              "      <th>message</th>\n",
              "      <th>original</th>\n",
              "      <th>genre</th>\n",
              "      <th>related</th>\n",
              "      <th>request</th>\n",
              "      <th>offer</th>\n",
              "      <th>aid_related</th>\n",
              "      <th>medical_help</th>\n",
              "      <th>medical_products</th>\n",
              "      <th>search_and_rescue</th>\n",
              "      <th>security</th>\n",
              "      <th>military</th>\n",
              "      <th>child_alone</th>\n",
              "      <th>water</th>\n",
              "      <th>food</th>\n",
              "      <th>shelter</th>\n",
              "      <th>clothing</th>\n",
              "      <th>money</th>\n",
              "      <th>missing_people</th>\n",
              "      <th>refugees</th>\n",
              "      <th>death</th>\n",
              "      <th>other_aid</th>\n",
              "      <th>infrastructure_related</th>\n",
              "      <th>transport</th>\n",
              "      <th>buildings</th>\n",
              "      <th>electricity</th>\n",
              "      <th>tools</th>\n",
              "      <th>hospitals</th>\n",
              "      <th>shops</th>\n",
              "      <th>aid_centers</th>\n",
              "      <th>other_infrastructure</th>\n",
              "      <th>weather_related</th>\n",
              "      <th>floods</th>\n",
              "      <th>storm</th>\n",
              "      <th>fire</th>\n",
              "      <th>earthquake</th>\n",
              "      <th>cold</th>\n",
              "      <th>other_weather</th>\n",
              "      <th>direct_report</th>\n",
              "    </tr>\n",
              "  </thead>\n",
              "  <tbody>\n",
              "    <tr>\n",
              "      <th>0</th>\n",
              "      <td>2</td>\n",
              "      <td>Weather update - a cold front from Cuba that c...</td>\n",
              "      <td>Un front froid se retrouve sur Cuba ce matin. ...</td>\n",
              "      <td>direct</td>\n",
              "      <td>1</td>\n",
              "      <td>0</td>\n",
              "      <td>0</td>\n",
              "      <td>0</td>\n",
              "      <td>0</td>\n",
              "      <td>0</td>\n",
              "      <td>0</td>\n",
              "      <td>0</td>\n",
              "      <td>0</td>\n",
              "      <td>0</td>\n",
              "      <td>0</td>\n",
              "      <td>0</td>\n",
              "      <td>0</td>\n",
              "      <td>0</td>\n",
              "      <td>0</td>\n",
              "      <td>0</td>\n",
              "      <td>0</td>\n",
              "      <td>0</td>\n",
              "      <td>0</td>\n",
              "      <td>0</td>\n",
              "      <td>0</td>\n",
              "      <td>0</td>\n",
              "      <td>0</td>\n",
              "      <td>0</td>\n",
              "      <td>0</td>\n",
              "      <td>0</td>\n",
              "      <td>0</td>\n",
              "      <td>0</td>\n",
              "      <td>0</td>\n",
              "      <td>0</td>\n",
              "      <td>0</td>\n",
              "      <td>0</td>\n",
              "      <td>0</td>\n",
              "      <td>0</td>\n",
              "      <td>0</td>\n",
              "      <td>0</td>\n",
              "    </tr>\n",
              "    <tr>\n",
              "      <th>1</th>\n",
              "      <td>7</td>\n",
              "      <td>Is the Hurricane over or is it not over</td>\n",
              "      <td>Cyclone nan fini osinon li pa fini</td>\n",
              "      <td>direct</td>\n",
              "      <td>1</td>\n",
              "      <td>0</td>\n",
              "      <td>0</td>\n",
              "      <td>1</td>\n",
              "      <td>0</td>\n",
              "      <td>0</td>\n",
              "      <td>0</td>\n",
              "      <td>0</td>\n",
              "      <td>0</td>\n",
              "      <td>0</td>\n",
              "      <td>0</td>\n",
              "      <td>0</td>\n",
              "      <td>0</td>\n",
              "      <td>0</td>\n",
              "      <td>0</td>\n",
              "      <td>0</td>\n",
              "      <td>0</td>\n",
              "      <td>0</td>\n",
              "      <td>1</td>\n",
              "      <td>0</td>\n",
              "      <td>0</td>\n",
              "      <td>0</td>\n",
              "      <td>0</td>\n",
              "      <td>0</td>\n",
              "      <td>0</td>\n",
              "      <td>0</td>\n",
              "      <td>0</td>\n",
              "      <td>0</td>\n",
              "      <td>1</td>\n",
              "      <td>0</td>\n",
              "      <td>1</td>\n",
              "      <td>0</td>\n",
              "      <td>0</td>\n",
              "      <td>0</td>\n",
              "      <td>0</td>\n",
              "      <td>0</td>\n",
              "    </tr>\n",
              "    <tr>\n",
              "      <th>2</th>\n",
              "      <td>8</td>\n",
              "      <td>Looking for someone but no name</td>\n",
              "      <td>Patnm, di Maryani relem pou li banm nouvel li ...</td>\n",
              "      <td>direct</td>\n",
              "      <td>1</td>\n",
              "      <td>0</td>\n",
              "      <td>0</td>\n",
              "      <td>0</td>\n",
              "      <td>0</td>\n",
              "      <td>0</td>\n",
              "      <td>0</td>\n",
              "      <td>0</td>\n",
              "      <td>0</td>\n",
              "      <td>0</td>\n",
              "      <td>0</td>\n",
              "      <td>0</td>\n",
              "      <td>0</td>\n",
              "      <td>0</td>\n",
              "      <td>0</td>\n",
              "      <td>0</td>\n",
              "      <td>0</td>\n",
              "      <td>0</td>\n",
              "      <td>0</td>\n",
              "      <td>0</td>\n",
              "      <td>0</td>\n",
              "      <td>0</td>\n",
              "      <td>0</td>\n",
              "      <td>0</td>\n",
              "      <td>0</td>\n",
              "      <td>0</td>\n",
              "      <td>0</td>\n",
              "      <td>0</td>\n",
              "      <td>0</td>\n",
              "      <td>0</td>\n",
              "      <td>0</td>\n",
              "      <td>0</td>\n",
              "      <td>0</td>\n",
              "      <td>0</td>\n",
              "      <td>0</td>\n",
              "      <td>0</td>\n",
              "    </tr>\n",
              "    <tr>\n",
              "      <th>3</th>\n",
              "      <td>9</td>\n",
              "      <td>UN reports Leogane 80-90 destroyed. Only Hospi...</td>\n",
              "      <td>UN reports Leogane 80-90 destroyed. Only Hospi...</td>\n",
              "      <td>direct</td>\n",
              "      <td>1</td>\n",
              "      <td>1</td>\n",
              "      <td>0</td>\n",
              "      <td>1</td>\n",
              "      <td>0</td>\n",
              "      <td>1</td>\n",
              "      <td>0</td>\n",
              "      <td>0</td>\n",
              "      <td>0</td>\n",
              "      <td>0</td>\n",
              "      <td>0</td>\n",
              "      <td>0</td>\n",
              "      <td>0</td>\n",
              "      <td>0</td>\n",
              "      <td>0</td>\n",
              "      <td>0</td>\n",
              "      <td>0</td>\n",
              "      <td>0</td>\n",
              "      <td>1</td>\n",
              "      <td>1</td>\n",
              "      <td>0</td>\n",
              "      <td>1</td>\n",
              "      <td>0</td>\n",
              "      <td>0</td>\n",
              "      <td>1</td>\n",
              "      <td>0</td>\n",
              "      <td>0</td>\n",
              "      <td>0</td>\n",
              "      <td>0</td>\n",
              "      <td>0</td>\n",
              "      <td>0</td>\n",
              "      <td>0</td>\n",
              "      <td>0</td>\n",
              "      <td>0</td>\n",
              "      <td>0</td>\n",
              "      <td>0</td>\n",
              "    </tr>\n",
              "    <tr>\n",
              "      <th>4</th>\n",
              "      <td>12</td>\n",
              "      <td>says: west side of Haiti, rest of the country ...</td>\n",
              "      <td>facade ouest d Haiti et le reste du pays aujou...</td>\n",
              "      <td>direct</td>\n",
              "      <td>1</td>\n",
              "      <td>0</td>\n",
              "      <td>0</td>\n",
              "      <td>0</td>\n",
              "      <td>0</td>\n",
              "      <td>0</td>\n",
              "      <td>0</td>\n",
              "      <td>0</td>\n",
              "      <td>0</td>\n",
              "      <td>0</td>\n",
              "      <td>0</td>\n",
              "      <td>0</td>\n",
              "      <td>0</td>\n",
              "      <td>0</td>\n",
              "      <td>0</td>\n",
              "      <td>0</td>\n",
              "      <td>0</td>\n",
              "      <td>0</td>\n",
              "      <td>0</td>\n",
              "      <td>0</td>\n",
              "      <td>0</td>\n",
              "      <td>0</td>\n",
              "      <td>0</td>\n",
              "      <td>0</td>\n",
              "      <td>0</td>\n",
              "      <td>0</td>\n",
              "      <td>0</td>\n",
              "      <td>0</td>\n",
              "      <td>0</td>\n",
              "      <td>0</td>\n",
              "      <td>0</td>\n",
              "      <td>0</td>\n",
              "      <td>0</td>\n",
              "      <td>0</td>\n",
              "      <td>0</td>\n",
              "      <td>0</td>\n",
              "    </tr>\n",
              "  </tbody>\n",
              "</table>\n",
              "</div>"
            ],
            "text/plain": [
              "   id  ... direct_report\n",
              "0   2  ...             0\n",
              "1   7  ...             0\n",
              "2   8  ...             0\n",
              "3   9  ...             0\n",
              "4  12  ...             0\n",
              "\n",
              "[5 rows x 40 columns]"
            ]
          },
          "metadata": {
            "tags": []
          },
          "execution_count": 10
        }
      ]
    },
    {
      "cell_type": "code",
      "metadata": {
        "colab": {
          "base_uri": "https://localhost:8080/"
        },
        "id": "AcLeThiowqZZ",
        "outputId": "e5c0ff03-ac88-4905-c351-f43c3bf5fffd"
      },
      "source": [
        "categories = df.iloc[:,4:].sum().sort_values(ascending=False)\r\n",
        "category_names = list(categories.index.str.title().str.replace('_', ' '))\r\n",
        "category_counts = list(categories)\r\n",
        "\r\n",
        "category_names"
      ],
      "execution_count": 11,
      "outputs": [
        {
          "output_type": "execute_result",
          "data": {
            "text/plain": [
              "['Related',\n",
              " 'Aid Related',\n",
              " 'Weather Related',\n",
              " 'Direct Report',\n",
              " 'Request',\n",
              " 'Other Aid',\n",
              " 'Food',\n",
              " 'Earthquake',\n",
              " 'Storm',\n",
              " 'Shelter',\n",
              " 'Floods',\n",
              " 'Medical Help',\n",
              " 'Infrastructure Related',\n",
              " 'Water',\n",
              " 'Other Weather',\n",
              " 'Buildings',\n",
              " 'Medical Products',\n",
              " 'Transport',\n",
              " 'Death',\n",
              " 'Other Infrastructure',\n",
              " 'Refugees',\n",
              " 'Military',\n",
              " 'Search And Rescue',\n",
              " 'Money',\n",
              " 'Electricity',\n",
              " 'Cold',\n",
              " 'Security',\n",
              " 'Clothing',\n",
              " 'Aid Centers',\n",
              " 'Missing People',\n",
              " 'Hospitals',\n",
              " 'Fire',\n",
              " 'Tools',\n",
              " 'Shops',\n",
              " 'Offer',\n",
              " 'Child Alone']"
            ]
          },
          "metadata": {
            "tags": []
          },
          "execution_count": 11
        }
      ]
    },
    {
      "cell_type": "code",
      "metadata": {
        "colab": {
          "base_uri": "https://localhost:8080/"
        },
        "id": "PbM-6g3k23Qw",
        "outputId": "47eb92ed-3227-46bf-b1dd-fa90ebf51cab"
      },
      "source": [
        "(df['related']>0).mean().round(2)"
      ],
      "execution_count": 12,
      "outputs": [
        {
          "output_type": "execute_result",
          "data": {
            "text/plain": [
              "0.77"
            ]
          },
          "metadata": {
            "tags": []
          },
          "execution_count": 12
        }
      ]
    },
    {
      "cell_type": "code",
      "metadata": {
        "colab": {
          "base_uri": "https://localhost:8080/"
        },
        "id": "AHSVPAqUvqTM",
        "outputId": "a01e4f2f-09b8-4368-da0d-356006b08ac6"
      },
      "source": [
        "if __name__ == '__main__':\r\n",
        "    # main()\r\n",
        "    app.run()"
      ],
      "execution_count": 13,
      "outputs": [
        {
          "output_type": "stream",
          "text": [
            " * Serving Flask app \"__main__\" (lazy loading)\n",
            " * Environment: production\n",
            "\u001b[31m   WARNING: This is a development server. Do not use it in a production deployment.\u001b[0m\n",
            "\u001b[2m   Use a production WSGI server instead.\u001b[0m\n",
            " * Debug mode: off\n"
          ],
          "name": "stdout"
        },
        {
          "output_type": "stream",
          "text": [
            " * Running on http://127.0.0.1:5000/ (Press CTRL+C to quit)\n"
          ],
          "name": "stderr"
        },
        {
          "output_type": "stream",
          "text": [
            " * Running on http://acf64d096e77.ngrok.io\n",
            " * Traffic stats available on http://127.0.0.1:4040\n"
          ],
          "name": "stdout"
        },
        {
          "output_type": "stream",
          "text": [
            "127.0.0.1 - - [17/Jan/2021 19:54:04] \"\u001b[37mGET / HTTP/1.1\u001b[0m\" 200 -\n",
            "127.0.0.1 - - [17/Jan/2021 19:54:05] \"\u001b[33mGET /favicon.ico HTTP/1.1\u001b[0m\" 404 -\n"
          ],
          "name": "stderr"
        }
      ]
    },
    {
      "cell_type": "code",
      "metadata": {
        "id": "eG-y3VV6Y_rS"
      },
      "source": [
        ""
      ],
      "execution_count": 13,
      "outputs": []
    }
  ]
}
